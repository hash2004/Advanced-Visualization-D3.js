{
 "cells": [
  {
   "cell_type": "markdown",
   "metadata": {},
   "source": [
    "# Update Certificates  \n",
    "SSLCertVerificationError\n"
   ]
  },
  {
   "cell_type": "code",
   "execution_count": 9,
   "metadata": {},
   "outputs": [
    {
     "name": "stdout",
     "output_type": "stream",
     "text": [
      "Requirement already satisfied: certifi in /Library/Frameworks/Python.framework/Versions/3.10/lib/python3.10/site-packages (2022.9.24)\n"
     ]
    }
   ],
   "source": [
    "! pip3 install certifi\n"
   ]
  },
  {
   "cell_type": "code",
   "execution_count": 10,
   "metadata": {},
   "outputs": [],
   "source": [
    "import os\n",
    "import certifi\n",
    "\n",
    "os.environ['SSL_CERT_FILE'] = certifi.where()\n"
   ]
  },
  {
   "cell_type": "markdown",
   "metadata": {},
   "source": [
    "# Downlaoding the Dataset "
   ]
  },
  {
   "cell_type": "code",
   "execution_count": 11,
   "metadata": {},
   "outputs": [
    {
     "name": "stdout",
     "output_type": "stream",
     "text": [
      "Downloading movie-corpus to /Users/wajeeh/.convokit/downloads/movie-corpus\n",
      "Downloading movie-corpus from http://zissou.infosci.cornell.edu/convokit/datasets/movie-corpus/movie-corpus.zip (40.9MB)... Done\n",
      "No configuration file found at /Users/wajeeh/.convokit/config.yml; writing with contents: \n",
      "# Default Backend Parameters\n",
      "db_host: localhost:27017\n",
      "data_directory: ~/.convokit/saved-corpora\n",
      "default_backend: mem\n"
     ]
    }
   ],
   "source": [
    "from convokit import Corpus, download\n",
    "corpus = Corpus(filename=download(\"movie-corpus\"))"
   ]
  },
  {
   "cell_type": "code",
   "execution_count": 12,
   "metadata": {},
   "outputs": [
    {
     "name": "stdout",
     "output_type": "stream",
     "text": [
      "Number of Speakers: 9035\n",
      "Number of Utterances: 304713\n",
      "Number of Conversations: 83097\n"
     ]
    }
   ],
   "source": [
    "corpus.print_summary_stats()"
   ]
  },
  {
   "cell_type": "code",
   "execution_count": 28,
   "metadata": {},
   "outputs": [
    {
     "name": "stdout",
     "output_type": "stream",
     "text": [
      "They do not!\n",
      "They do to!\n",
      "I hope so.\n",
      "She okay?\n",
      "Let's go.\n",
      "Wow\n",
      "Okay -- you're gonna need to learn how to lie.\n",
      "No\n",
      "I'm kidding.  You know how sometimes you just become this \"persona\"?  And you don't know how to quit?\n",
      "Like my fear of wearing pastels?\n"
     ]
    }
   ],
   "source": [
    "# Print the first 10 utterances\n",
    "for utterance in list(corpus.iter_utterances())[:10]:\n",
    "    print(utterance.text)\n"
   ]
  },
  {
   "cell_type": "code",
   "execution_count": 31,
   "metadata": {},
   "outputs": [
    {
     "name": "stdout",
     "output_type": "stream",
     "text": [
      "ConvoKitMeta({'character_name': 'BIANCA', 'movie_idx': 'm0', 'movie_name': '10 things i hate about you', 'gender': 'f', 'credit_pos': '4'})\n",
      "ConvoKitMeta({'character_name': 'CAMERON', 'movie_idx': 'm0', 'movie_name': '10 things i hate about you', 'gender': 'm', 'credit_pos': '3'})\n",
      "ConvoKitMeta({'character_name': 'CHASTITY', 'movie_idx': 'm0', 'movie_name': '10 things i hate about you', 'gender': '?', 'credit_pos': '?'})\n",
      "ConvoKitMeta({'character_name': 'JOEY', 'movie_idx': 'm0', 'movie_name': '10 things i hate about you', 'gender': 'm', 'credit_pos': '6'})\n",
      "ConvoKitMeta({'character_name': 'KAT', 'movie_idx': 'm0', 'movie_name': '10 things i hate about you', 'gender': 'f', 'credit_pos': '2'})\n",
      "ConvoKitMeta({'character_name': 'WALTER', 'movie_idx': 'm0', 'movie_name': '10 things i hate about you', 'gender': 'm', 'credit_pos': '9'})\n",
      "ConvoKitMeta({'character_name': 'BRUCE', 'movie_idx': 'm0', 'movie_name': '10 things i hate about you', 'gender': '?', 'credit_pos': '?'})\n",
      "ConvoKitMeta({'character_name': 'PATRICK', 'movie_idx': 'm0', 'movie_name': '10 things i hate about you', 'gender': 'm', 'credit_pos': '1'})\n",
      "ConvoKitMeta({'character_name': 'MICHAEL', 'movie_idx': 'm0', 'movie_name': '10 things i hate about you', 'gender': 'm', 'credit_pos': '5'})\n",
      "ConvoKitMeta({'character_name': 'MANDELLA', 'movie_idx': 'm0', 'movie_name': '10 things i hate about you', 'gender': 'f', 'credit_pos': '7'})\n"
     ]
    }
   ],
   "source": [
    "# Print the first 10 speakers\n",
    "for speaker in list(corpus.iter_speakers())[:10]:\n",
    "    print(speaker.meta)\n"
   ]
  },
  {
   "cell_type": "code",
   "execution_count": 32,
   "metadata": {},
   "outputs": [
    {
     "name": "stdout",
     "output_type": "stream",
     "text": [
      "['L1045', 'L1044']\n",
      "['L985', 'L984']\n",
      "['L925', 'L924']\n",
      "['L872', 'L871', 'L870']\n",
      "['L869', 'L868', 'L867', 'L866']\n"
     ]
    }
   ],
   "source": [
    "# Print the first 5 conversations\n",
    "for convo in list(corpus.iter_conversations())[:5]:\n",
    "    print(convo.get_utterance_ids())\n"
   ]
  },
  {
   "cell_type": "markdown",
   "metadata": {},
   "source": [
    "# Perform NER with SpaCy"
   ]
  },
  {
   "cell_type": "code",
   "execution_count": 49,
   "metadata": {},
   "outputs": [
    {
     "ename": "KeyboardInterrupt",
     "evalue": "",
     "output_type": "error",
     "traceback": [
      "\u001b[0;31m---------------------------------------------------------------------------\u001b[0m",
      "\u001b[0;31mKeyboardInterrupt\u001b[0m                         Traceback (most recent call last)",
      "\u001b[1;32m/Users/wajeeh/Desktop/DAV/project/main.ipynb Cell 11\u001b[0m line \u001b[0;36m1\n\u001b[1;32m     <a href='vscode-notebook-cell:/Users/wajeeh/Desktop/DAV/project/main.ipynb#X22sZmlsZQ%3D%3D?line=13'>14</a>\u001b[0m \u001b[39m# Assuming you have a corpus to iterate over\u001b[39;00m\n\u001b[1;32m     <a href='vscode-notebook-cell:/Users/wajeeh/Desktop/DAV/project/main.ipynb#X22sZmlsZQ%3D%3D?line=14'>15</a>\u001b[0m \u001b[39mfor\u001b[39;00m utterance \u001b[39min\u001b[39;00m corpus\u001b[39m.\u001b[39miter_utterances():\n\u001b[0;32m---> <a href='vscode-notebook-cell:/Users/wajeeh/Desktop/DAV/project/main.ipynb#X22sZmlsZQ%3D%3D?line=15'>16</a>\u001b[0m     entities \u001b[39m=\u001b[39m extract_entities(utterance\u001b[39m.\u001b[39;49mtext)\n\u001b[1;32m     <a href='vscode-notebook-cell:/Users/wajeeh/Desktop/DAV/project/main.ipynb#X22sZmlsZQ%3D%3D?line=16'>17</a>\u001b[0m     utterance\u001b[39m.\u001b[39mmeta[\u001b[39m'\u001b[39m\u001b[39mentities\u001b[39m\u001b[39m'\u001b[39m] \u001b[39m=\u001b[39m [{\u001b[39m\"\u001b[39m\u001b[39mentity\u001b[39m\u001b[39m\"\u001b[39m: entity, \u001b[39m\"\u001b[39m\u001b[39mtype\u001b[39m\u001b[39m\"\u001b[39m: entity_type} \u001b[39mfor\u001b[39;00m entity, entity_type \u001b[39min\u001b[39;00m entities]\n\u001b[1;32m     <a href='vscode-notebook-cell:/Users/wajeeh/Desktop/DAV/project/main.ipynb#X22sZmlsZQ%3D%3D?line=18'>19</a>\u001b[0m corpus\u001b[39m.\u001b[39mdump(\u001b[39m\"\u001b[39m\u001b[39mmovie-corpus-with-entities\u001b[39m\u001b[39m\"\u001b[39m)\n",
      "\u001b[1;32m/Users/wajeeh/Desktop/DAV/project/main.ipynb Cell 11\u001b[0m line \u001b[0;36m8\n\u001b[1;32m      <a href='vscode-notebook-cell:/Users/wajeeh/Desktop/DAV/project/main.ipynb#X22sZmlsZQ%3D%3D?line=5'>6</a>\u001b[0m \u001b[39mdef\u001b[39;00m \u001b[39mextract_entities\u001b[39m(text):\n\u001b[1;32m      <a href='vscode-notebook-cell:/Users/wajeeh/Desktop/DAV/project/main.ipynb#X22sZmlsZQ%3D%3D?line=6'>7</a>\u001b[0m     \u001b[39m# Process the text with spaCy\u001b[39;00m\n\u001b[0;32m----> <a href='vscode-notebook-cell:/Users/wajeeh/Desktop/DAV/project/main.ipynb#X22sZmlsZQ%3D%3D?line=7'>8</a>\u001b[0m     doc \u001b[39m=\u001b[39m nlp(text)\n\u001b[1;32m     <a href='vscode-notebook-cell:/Users/wajeeh/Desktop/DAV/project/main.ipynb#X22sZmlsZQ%3D%3D?line=9'>10</a>\u001b[0m     \u001b[39m# Extract entities\u001b[39;00m\n\u001b[1;32m     <a href='vscode-notebook-cell:/Users/wajeeh/Desktop/DAV/project/main.ipynb#X22sZmlsZQ%3D%3D?line=10'>11</a>\u001b[0m     entities \u001b[39m=\u001b[39m [(ent\u001b[39m.\u001b[39mtext, ent\u001b[39m.\u001b[39mlabel_) \u001b[39mfor\u001b[39;00m ent \u001b[39min\u001b[39;00m doc\u001b[39m.\u001b[39ments]\n",
      "File \u001b[0;32m/Library/Frameworks/Python.framework/Versions/3.10/lib/python3.10/site-packages/spacy/language.py:1049\u001b[0m, in \u001b[0;36mLanguage.__call__\u001b[0;34m(self, text, disable, component_cfg)\u001b[0m\n\u001b[1;32m   1047\u001b[0m     error_handler \u001b[39m=\u001b[39m proc\u001b[39m.\u001b[39mget_error_handler()\n\u001b[1;32m   1048\u001b[0m \u001b[39mtry\u001b[39;00m:\n\u001b[0;32m-> 1049\u001b[0m     doc \u001b[39m=\u001b[39m proc(doc, \u001b[39m*\u001b[39;49m\u001b[39m*\u001b[39;49mcomponent_cfg\u001b[39m.\u001b[39;49mget(name, {}))  \u001b[39m# type: ignore[call-arg]\u001b[39;00m\n\u001b[1;32m   1050\u001b[0m \u001b[39mexcept\u001b[39;00m \u001b[39mKeyError\u001b[39;00m \u001b[39mas\u001b[39;00m e:\n\u001b[1;32m   1051\u001b[0m     \u001b[39m# This typically happens if a component is not initialized\u001b[39;00m\n\u001b[1;32m   1052\u001b[0m     \u001b[39mraise\u001b[39;00m \u001b[39mValueError\u001b[39;00m(Errors\u001b[39m.\u001b[39mE109\u001b[39m.\u001b[39mformat(name\u001b[39m=\u001b[39mname)) \u001b[39mfrom\u001b[39;00m \u001b[39me\u001b[39;00m\n",
      "File \u001b[0;32m/Library/Frameworks/Python.framework/Versions/3.10/lib/python3.10/site-packages/spacy/pipeline/trainable_pipe.pyx:52\u001b[0m, in \u001b[0;36mspacy.pipeline.trainable_pipe.TrainablePipe.__call__\u001b[0;34m()\u001b[0m\n",
      "File \u001b[0;32m/Library/Frameworks/Python.framework/Versions/3.10/lib/python3.10/site-packages/spacy/pipeline/transition_parser.pyx:264\u001b[0m, in \u001b[0;36mspacy.pipeline.transition_parser.Parser.predict\u001b[0;34m()\u001b[0m\n",
      "File \u001b[0;32m/Library/Frameworks/Python.framework/Versions/3.10/lib/python3.10/site-packages/spacy/pipeline/transition_parser.pyx:283\u001b[0m, in \u001b[0;36mspacy.pipeline.transition_parser.Parser.greedy_parse\u001b[0;34m()\u001b[0m\n",
      "File \u001b[0;32m/Library/Frameworks/Python.framework/Versions/3.10/lib/python3.10/site-packages/thinc/model.py:868\u001b[0m, in \u001b[0;36mset_dropout_rate\u001b[0;34m(model, drop, attrs)\u001b[0m\n\u001b[1;32m    864\u001b[0m                     node\u001b[39m.\u001b[39mattrs[attr] \u001b[39m=\u001b[39m value\n\u001b[1;32m    865\u001b[0m     \u001b[39mreturn\u001b[39;00m model\n\u001b[0;32m--> 868\u001b[0m \u001b[39mdef\u001b[39;00m \u001b[39mset_dropout_rate\u001b[39m(model: _ModelT, drop: \u001b[39mfloat\u001b[39m, attrs\u001b[39m=\u001b[39m[\u001b[39m\"\u001b[39m\u001b[39mdropout_rate\u001b[39m\u001b[39m\"\u001b[39m]) \u001b[39m-\u001b[39m\u001b[39m>\u001b[39m _ModelT:\n\u001b[1;32m    869\u001b[0m     \u001b[39m\"\"\"Walk over the model's nodes, setting the dropout rate. You can specify\u001b[39;00m\n\u001b[1;32m    870\u001b[0m \u001b[39m    one or more attribute names, by default it looks for [\"dropout_rate\"].\u001b[39;00m\n\u001b[1;32m    871\u001b[0m \u001b[39m    \"\"\"\u001b[39;00m\n\u001b[1;32m    872\u001b[0m     \u001b[39mfor\u001b[39;00m node \u001b[39min\u001b[39;00m model\u001b[39m.\u001b[39mwalk():\n",
      "\u001b[0;31mKeyboardInterrupt\u001b[0m: "
     ]
    }
   ],
   "source": [
    "import spacy\n",
    "\n",
    "# Load spaCy's English language model\n",
    "nlp = spacy.load(\"en_core_web_sm\")\n",
    "\n",
    "def extract_entities(text):\n",
    "    # Process the text with spaCy\n",
    "    doc = nlp(text)\n",
    "\n",
    "    # Extract entities\n",
    "    entities = [(ent.text, ent.label_) for ent in doc.ents]\n",
    "    return entities\n",
    "\n",
    "# Assuming you have a corpus to iterate over\n",
    "for utterance in corpus.iter_utterances():\n",
    "    entities = extract_entities(utterance.text)\n",
    "    utterance.meta['entities'] = [{\"entity\": entity, \"type\": entity_type} for entity, entity_type in entities]\n",
    "\n",
    "corpus.dump(\"movie-corpus-with-entities\")\n"
   ]
  },
  {
   "cell_type": "markdown",
   "metadata": {},
   "source": [
    "# Aggregate Entity Counts"
   ]
  },
  {
   "cell_type": "code",
   "execution_count": null,
   "metadata": {},
   "outputs": [],
   "source": [
    "from collections import Counter\n",
    "\n",
    "entity_counts = Counter()\n",
    "\n",
    "for conversation in corpus.iter_conversations():\n",
    "    for utterance in conversation.iter_utterances():\n",
    "        entities = utterance.meta['entities'] if 'entities' in utterance.meta else []\n",
    "        for entity in entities:\n",
    "            entity_type = entity['type']\n",
    "            entity_counts[entity_type] += 1\n"
   ]
  },
  {
   "cell_type": "code",
   "execution_count": 3,
   "metadata": {},
   "outputs": [],
   "source": [
    "from flask import Flask, jsonify\n",
    "import spacy"
   ]
  },
  {
   "cell_type": "code",
   "execution_count": 4,
   "metadata": {},
   "outputs": [],
   "source": [
    "app = Flask(__name__)\n",
    "\n",
    "# Load spaCy model\n",
    "nlp = spacy.load(\"en_core_web_sm\")"
   ]
  },
  {
   "cell_type": "code",
   "execution_count": 5,
   "metadata": {},
   "outputs": [],
   "source": [
    "\n",
    "def extract_entities(text):\n",
    "    doc = nlp(text)\n",
    "    return [(ent.text, ent.label_) for ent in doc.ents]\n",
    "\n",
    "@app.route('/get_entities', methods=['GET'])\n",
    "def get_entities():\n",
    "    # Dummy text, replace with your Convokit data retrieval logic\n",
    "    text = \"Apple is looking at buying U.K. startup for $1 billion\"\n",
    "    entities = extract_entities(text)\n",
    "    return jsonify(entities)\n"
   ]
  },
  {
   "cell_type": "code",
   "execution_count": 6,
   "metadata": {},
   "outputs": [],
   "source": [
    "@app.route('/get_entity_network', methods=['GET'])\n",
    "def get_entity_network():\n",
    "    # Using a dictionary to track co-occurrence\n",
    "    co_occurrence = {}\n",
    "\n",
    "    for utterance in corpus.utterances_iter():\n",
    "        doc = nlp(utterance.text)\n",
    "        entities = [ent.text for ent in doc.ents if ent.label_ in ['PERSON', 'ORG', 'GPE']]  # Filter entities if needed\n",
    "        for i, entity in enumerate(entities):\n",
    "            for adjacent in entities[i + 1:]:\n",
    "                if entity != adjacent:\n",
    "                    pair = tuple(sorted([entity, adjacent]))\n",
    "                    co_occurrence[pair] = co_occurrence.get(pair, 0) + 1\n",
    "\n",
    "    # Preparing nodes and links for D3\n",
    "    nodes = list({entity for pair in co_occurrence for entity in pair})\n",
    "    links = [{\"source\": pair[0], \"target\": pair[1], \"value\": count} for pair, count in co_occurrence.items()]\n",
    "\n",
    "    return jsonify({\"nodes\": [{\"id\": node} for node in nodes], \"links\": links})\n"
   ]
  },
  {
   "cell_type": "code",
   "execution_count": 7,
   "metadata": {},
   "outputs": [],
   "source": [
    "@app.route('/get_all_entities', methods=['GET'])\n",
    "def get_all_entities():\n",
    "\n",
    "    all_entities = []\n",
    "    for utterance in corpus.utterances_iter():\n",
    "        doc = nlp(utterance.text)\n",
    "        entities = [(ent.text, ent.label_) for ent in doc.ents]\n",
    "        all_entities.append({\"utterance\": utterance.text, \"entities\": entities})\n",
    "\n",
    "    return jsonify(all_entities)"
   ]
  },
  {
   "cell_type": "code",
   "execution_count": 8,
   "metadata": {},
   "outputs": [
    {
     "name": "stdout",
     "output_type": "stream",
     "text": [
      " * Serving Flask app '__main__'\n",
      " * Debug mode: on\n"
     ]
    },
    {
     "name": "stderr",
     "output_type": "stream",
     "text": [
      "\u001b[31m\u001b[1mWARNING: This is a development server. Do not use it in a production deployment. Use a production WSGI server instead.\u001b[0m\n",
      " * Running on http://127.0.0.1:5000\n",
      "\u001b[33mPress CTRL+C to quit\u001b[0m\n",
      " * Restarting with stat\n",
      "Traceback (most recent call last):\n",
      "  File \"/Users/wajeeh/Library/Python/3.10/lib/python/site-packages/ipykernel_launcher.py\", line 17, in <module>\n",
      "    app.launch_new_instance()\n",
      "  File \"/Users/wajeeh/Library/Python/3.10/lib/python/site-packages/traitlets/config/application.py\", line 981, in launch_instance\n",
      "    app.initialize(argv)\n",
      "  File \"/Users/wajeeh/Library/Python/3.10/lib/python/site-packages/traitlets/config/application.py\", line 110, in inner\n",
      "    return method(app, *args, **kwargs)\n",
      "  File \"/Users/wajeeh/Library/Python/3.10/lib/python/site-packages/ipykernel/kernelapp.py\", line 666, in initialize\n",
      "    self.init_sockets()\n",
      "  File \"/Users/wajeeh/Library/Python/3.10/lib/python/site-packages/ipykernel/kernelapp.py\", line 307, in init_sockets\n",
      "    self.shell_port = self._bind_socket(self.shell_socket, self.shell_port)\n",
      "  File \"/Users/wajeeh/Library/Python/3.10/lib/python/site-packages/ipykernel/kernelapp.py\", line 244, in _bind_socket\n",
      "    return self._try_bind_socket(s, port)\n",
      "  File \"/Users/wajeeh/Library/Python/3.10/lib/python/site-packages/ipykernel/kernelapp.py\", line 220, in _try_bind_socket\n",
      "    s.bind(\"tcp://%s:%i\" % (self.ip, port))\n",
      "  File \"/Users/wajeeh/Library/Python/3.10/lib/python/site-packages/zmq/sugar/socket.py\", line 232, in bind\n",
      "    super().bind(addr)\n",
      "  File \"zmq/backend/cython/socket.pyx\", line 568, in zmq.backend.cython.socket.Socket.bind\n",
      "  File \"zmq/backend/cython/checkrc.pxd\", line 28, in zmq.backend.cython.checkrc._check_rc\n",
      "zmq.error.ZMQError: Address already in use\n"
     ]
    },
    {
     "ename": "SystemExit",
     "evalue": "1",
     "output_type": "error",
     "traceback": [
      "An exception has occurred, use %tb to see the full traceback.\n",
      "\u001b[0;31mSystemExit\u001b[0m\u001b[0;31m:\u001b[0m 1\n"
     ]
    },
    {
     "name": "stderr",
     "output_type": "stream",
     "text": [
      "/Users/wajeeh/Library/Python/3.10/lib/python/site-packages/IPython/core/interactiveshell.py:3441: UserWarning: To exit: use 'exit', 'quit', or Ctrl-D.\n",
      "  warn(\"To exit: use 'exit', 'quit', or Ctrl-D.\", stacklevel=1)\n"
     ]
    }
   ],
   "source": [
    "if __name__ == '__main__':\n",
    "    app.run(debug=True, port=5000)"
   ]
  },
  {
   "cell_type": "markdown",
   "metadata": {},
   "source": [
    "# Plotting the Distribution"
   ]
  },
  {
   "cell_type": "code",
   "execution_count": 54,
   "metadata": {},
   "outputs": [
    {
     "ename": "NameError",
     "evalue": "name 'entity_counts' is not defined",
     "output_type": "error",
     "traceback": [
      "\u001b[0;31m---------------------------------------------------------------------------\u001b[0m",
      "\u001b[0;31mNameError\u001b[0m                                 Traceback (most recent call last)",
      "\u001b[1;32m/Users/wajeeh/Desktop/DAV/project/main.ipynb Cell 21\u001b[0m line \u001b[0;36m4\n\u001b[1;32m      <a href='vscode-notebook-cell:/Users/wajeeh/Desktop/DAV/project/main.ipynb#X34sZmlsZQ%3D%3D?line=0'>1</a>\u001b[0m \u001b[39mimport\u001b[39;00m \u001b[39mmatplotlib\u001b[39;00m\u001b[39m.\u001b[39;00m\u001b[39mpyplot\u001b[39;00m \u001b[39mas\u001b[39;00m \u001b[39mplt\u001b[39;00m\n\u001b[1;32m      <a href='vscode-notebook-cell:/Users/wajeeh/Desktop/DAV/project/main.ipynb#X34sZmlsZQ%3D%3D?line=2'>3</a>\u001b[0m \u001b[39m# Preparing data for plotting\u001b[39;00m\n\u001b[0;32m----> <a href='vscode-notebook-cell:/Users/wajeeh/Desktop/DAV/project/main.ipynb#X34sZmlsZQ%3D%3D?line=3'>4</a>\u001b[0m labels, values \u001b[39m=\u001b[39m \u001b[39mzip\u001b[39m(\u001b[39m*\u001b[39mentity_counts\u001b[39m.\u001b[39mitems())\n\u001b[1;32m      <a href='vscode-notebook-cell:/Users/wajeeh/Desktop/DAV/project/main.ipynb#X34sZmlsZQ%3D%3D?line=5'>6</a>\u001b[0m \u001b[39m# Creating the bar chart\u001b[39;00m\n\u001b[1;32m      <a href='vscode-notebook-cell:/Users/wajeeh/Desktop/DAV/project/main.ipynb#X34sZmlsZQ%3D%3D?line=6'>7</a>\u001b[0m plt\u001b[39m.\u001b[39mfigure(figsize\u001b[39m=\u001b[39m(\u001b[39m10\u001b[39m, \u001b[39m6\u001b[39m))\n",
      "\u001b[0;31mNameError\u001b[0m: name 'entity_counts' is not defined"
     ]
    }
   ],
   "source": [
    "import matplotlib.pyplot as plt\n",
    "\n",
    "# Preparing data for plotting\n",
    "labels, values = zip(*entity_counts.items())\n",
    "\n",
    "# Creating the bar chart\n",
    "plt.figure(figsize=(10, 6))\n",
    "plt.bar(labels, values, color='skyblue')\n",
    "plt.xlabel('Entity Types')\n",
    "plt.ylabel('Frequency')\n",
    "plt.title('Distribution of Entity Types in Dataset')\n",
    "plt.xticks(rotation=45)\n",
    "plt.show()"
   ]
  },
  {
   "cell_type": "code",
   "execution_count": null,
   "metadata": {},
   "outputs": [],
   "source": []
  }
 ],
 "metadata": {
  "kernelspec": {
   "display_name": "Python 3",
   "language": "python",
   "name": "python3"
  },
  "language_info": {
   "codemirror_mode": {
    "name": "ipython",
    "version": 3
   },
   "file_extension": ".py",
   "mimetype": "text/x-python",
   "name": "python",
   "nbconvert_exporter": "python",
   "pygments_lexer": "ipython3",
   "version": "3.10.7"
  }
 },
 "nbformat": 4,
 "nbformat_minor": 2
}
