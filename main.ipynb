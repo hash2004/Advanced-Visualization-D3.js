{
 "cells": [
  {
   "cell_type": "markdown",
   "metadata": {},
   "source": [
    "# Update Certificates  \n",
    "SSLCertVerificationError\n"
   ]
  },
  {
   "cell_type": "code",
   "execution_count": 9,
   "metadata": {},
   "outputs": [
    {
     "name": "stdout",
     "output_type": "stream",
     "text": [
      "Requirement already satisfied: certifi in /Library/Frameworks/Python.framework/Versions/3.10/lib/python3.10/site-packages (2022.9.24)\n"
     ]
    }
   ],
   "source": [
    "! pip3 install certifi\n"
   ]
  },
  {
   "cell_type": "code",
   "execution_count": 23,
   "metadata": {},
   "outputs": [],
   "source": [
    "import os\n",
    "import certifi\n",
    "\n",
    "\n",
    "os.environ['SSL_CERT_FILE'] = certifi.where()\n",
    "\n"
   ]
  },
  {
   "cell_type": "markdown",
   "metadata": {},
   "source": [
    "# Downlaoding the Dataset "
   ]
  },
  {
   "cell_type": "code",
   "execution_count": 12,
   "metadata": {},
   "outputs": [],
   "source": [
    "import convokit"
   ]
  },
  {
   "cell_type": "code",
   "execution_count": 11,
   "metadata": {},
   "outputs": [],
   "source": [
    "from convokit import Corpus, download"
   ]
  },
  {
   "cell_type": "code",
   "execution_count": 1,
   "metadata": {},
   "outputs": [],
   "source": [
    "\n",
    "corpus = Corpus(filename=download(\"movie-corpus\"))\n"
   ]
  },
  {
   "cell_type": "markdown",
   "metadata": {},
   "source": [
    "Load data based on where it was downloaded by previous cell"
   ]
  },
  {
   "cell_type": "code",
   "execution_count": 9,
   "metadata": {},
   "outputs": [],
   "source": [
    "corpus = Corpus(filename=\"/Users/wajeeh/.convokit/downloads/movie-corpus\")"
   ]
  },
  {
   "cell_type": "markdown",
   "metadata": {},
   "source": [
    "## Perform NER with SpaCy for Forced Directed Graph"
   ]
  },
  {
   "cell_type": "code",
   "execution_count": 8,
   "metadata": {},
   "outputs": [],
   "source": [
    "import spacy\n",
    "import json"
   ]
  },
  {
   "cell_type": "code",
   "execution_count": 33,
   "metadata": {},
   "outputs": [],
   "source": [
    "def generate_entity_network():\n",
    "        nlp = spacy.load(\"en_core_web_sm\")\n",
    "        co_occurrence = {}\n",
    "\n",
    "        # for utterance in list(corpus.iter_utterances())[:10000]:\n",
    "        for utterance in list(corpus.iter_utterances()):\n",
    "            doc = nlp(utterance.text)\n",
    "            entities = [ent.text for ent in doc.ents if ent.label_ in ['PERSON', 'ORG', 'GPE']]\n",
    "            for i, entity in enumerate(entities):\n",
    "                for adjacent in entities[i + 1:]:\n",
    "                    if entity != adjacent:\n",
    "                        pair = tuple(sorted([entity, adjacent]))\n",
    "                        co_occurrence[pair] = co_occurrence.get(pair, 0) + 1\n",
    "\n",
    "        nodes = list({entity for pair in co_occurrence for entity in pair})\n",
    "        links = [{\"source\": pair[0], \"target\": pair[1], \"value\": count} for pair, count in co_occurrence.items()]\n",
    "\n",
    "        # Save to JSON\n",
    "        with open('entity_network.json', 'w') as f:\n",
    "            json.dump({\"nodes\": [{\"id\": node} for node in nodes], \"links\": links}, f)\n",
    "\n",
    "generate_entity_network()"
   ]
  },
  {
   "cell_type": "markdown",
   "metadata": {},
   "source": [
    "## LDA Topic Modelling for Bubble Charts "
   ]
  },
  {
   "cell_type": "markdown",
   "metadata": {},
   "source": [
    "preprocess text data\n"
   ]
  },
  {
   "cell_type": "code",
   "execution_count": 19,
   "metadata": {},
   "outputs": [
    {
     "name": "stdout",
     "output_type": "stream",
     "text": [
      "/System/Library/Frameworks/Python.framework/Versions/2.7/Resources/Python.app/Contents/MacOS/Python: No module named certifi\n"
     ]
    }
   ],
   "source": [
    "! /usr/bin/python -m certifi\n"
   ]
  },
  {
   "cell_type": "code",
   "execution_count": null,
   "metadata": {},
   "outputs": [],
   "source": []
  },
  {
   "cell_type": "code",
   "execution_count": 28,
   "metadata": {},
   "outputs": [
    {
     "data": {
      "text/plain": [
       "True"
      ]
     },
     "execution_count": 28,
     "metadata": {},
     "output_type": "execute_result"
    }
   ],
   "source": [
    "from nltk.tokenize import word_tokenize\n",
    "from nltk.corpus import stopwords\n",
    "import nltk\n",
    "\n",
    "os.environ['SSL_CERT_FILE'] = certifi.where()\n",
    "nltk.download('punkt', quiet=True)\n",
    "nltk.download('stopwords', quiet=True)\n"
   ]
  },
  {
   "cell_type": "code",
   "execution_count": 25,
   "metadata": {},
   "outputs": [],
   "source": [
    "stop_words = set(stopwords.words('english'))\n",
    "\n",
    "for utt in corpus.iter_utterances():\n",
    "    text = utt.text.lower()  # Convert to lowercase\n",
    "    tokens = word_tokenize(text)  # Tokenize text\n",
    "    filtered_tokens = [word for word in tokens if word.isalnum() and word not in stop_words]  # Remove stopwords\n",
    "    utt.text = \" \".join(filtered_tokens)  # Rejoin tokens into a clean text"
   ]
  },
  {
   "cell_type": "markdown",
   "metadata": {},
   "source": [
    "perform LDA topic modelling"
   ]
  },
  {
   "cell_type": "code",
   "execution_count": null,
   "metadata": {},
   "outputs": [],
   "source": [
    "from sklearn.feature_extraction.text import CountVectorizer\n",
    "from sklearn.decomposition import LatentDirichletAllocation\n",
    "import numpy as np\n",
    "\n",
    "# Create a document-term matrix using CountVectorizer\n",
    "vectorizer = CountVectorizer()\n",
    "X = vectorizer.fit_transform(utt.text for utt in corpus.iter_utterances())\n",
    "\n",
    "# Perform LDA topic modeling\n",
    "num_topics = 30  # Adjust the number of topics as needed\n",
    "lda = LatentDirichletAllocation(n_components=num_topics, random_state=0)\n",
    "lda.fit(X)\n",
    "\n",
    "# Extract topics, top words, and topic weights\n",
    "topic_keywords = []\n",
    "topic_weights = np.sum(lda.transform(X), axis=0)  # Sum of topic distributions\n",
    "\n",
    "for topic_idx, topic in enumerate(lda.components_):\n",
    "    top_words_idx = topic.argsort()[::-1][:10]  # Get the top 10 words for each topic\n",
    "    top_words = [vectorizer.get_feature_names_out()[i] for i in top_words_idx]\n",
    "    topic_weight = topic_weights[topic_idx]  # Weight of the topic\n",
    "    topic_keywords.append({\n",
    "        \"topic_id\": topic_idx,\n",
    "        \"keywords\": top_words,\n",
    "        \"value\": topic_weight  # Add the topic weight here\n",
    "    })\n",
    "\n",
    "# Convert topic data to JSON\n",
    "import json\n",
    "\n",
    "data_for_d3 = {\n",
    "    \"nodes\": topic_keywords  # Use 'nodes' to align with your D3.js code\n",
    "}\n",
    "\n",
    "with open(\"topics_data.json\", \"w\") as json_file:\n",
    "    json.dump(data_for_d3, json_file)\n"
   ]
  },
  {
   "cell_type": "markdown",
   "metadata": {},
   "source": [
    "# NER for Radial Network Graph"
   ]
  },
  {
   "cell_type": "code",
   "execution_count": 32,
   "metadata": {},
   "outputs": [],
   "source": [
    "\n",
    "import spacy\n",
    "import json\n",
    "from collections import defaultdict\n",
    "\n",
    "def generate_radial_network():\n",
    "    nlp = spacy.load(\"en_core_web_sm\")\n",
    "    co_occurrence = defaultdict(int)\n",
    "    entity_counts = defaultdict(int)\n",
    "    entity_types = {}\n",
    "\n",
    "    # Process utterances to count co-occurrences and entity frequencies\n",
    "    # for utterance in list(corpus.iter_utterances())[:10000]:\n",
    "    for utterance in list(corpus.iter_utterances()):\n",
    "        doc = nlp(utterance.text)\n",
    "        entities = [(ent.text, ent.label_) for ent in doc.ents if ent.label_ in ['PERSON', 'ORG', 'GPE']]\n",
    "        for i, (entity, type) in enumerate(entities):\n",
    "            entity_counts[entity] += 1\n",
    "            entity_types[entity] = type\n",
    "            for adjacent, _ in entities[i + 1:]:\n",
    "                if entity != adjacent:\n",
    "                    pair = tuple(sorted([entity, adjacent]))\n",
    "                    co_occurrence[pair] += 1\n",
    "\n",
    "    # Prepare nodes and links for the radial network graph\n",
    "    nodes = [{\"id\": entity, \"type\": entity_types[entity], \"weight\": entity_counts[entity]} for entity in entity_counts]\n",
    "    links = [{\"source\": pair[0], \"target\": pair[1], \"value\": count} for pair, count in co_occurrence.items()]\n",
    "\n",
    "    # Save to a new JSON file\n",
    "    with open('radial_network_data.json', 'w') as f:\n",
    "        json.dump({\"nodes\": nodes, \"links\": links}, f)\n",
    "\n",
    "generate_radial_network()\n"
   ]
  },
  {
   "cell_type": "code",
   "execution_count": null,
   "metadata": {},
   "outputs": [],
   "source": []
  }
 ],
 "metadata": {
  "kernelspec": {
   "display_name": "Python 3",
   "language": "python",
   "name": "python3"
  },
  "language_info": {
   "codemirror_mode": {
    "name": "ipython",
    "version": 3
   },
   "file_extension": ".py",
   "mimetype": "text/x-python",
   "name": "python",
   "nbconvert_exporter": "python",
   "pygments_lexer": "ipython3",
   "version": "3.10.7"
  }
 },
 "nbformat": 4,
 "nbformat_minor": 2
}
